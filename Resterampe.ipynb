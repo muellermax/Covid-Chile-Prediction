{
 "cells": [
  {
   "cell_type": "code",
   "execution_count": null,
   "metadata": {},
   "outputs": [],
   "source": [
    "\n",
    "# Read in data about Covid-19 in Chilean districts\n",
    "cases_districts = pd.read_csv(\n",
    "    'https://raw.githubusercontent.com/MinCiencia/Datos-COVID19/master/output/producto1/Covid-19.csv')\n",
    "cases_districts = cases_districts[~cases_districts.Comuna.str.contains('Desconocido')]\n",
    "\n",
    "\n",
    "deaths_districts = pd.read_csv(\n",
    "    'https://raw.githubusercontent.com/MinCiencia/Datos-COVID19/master/output/producto38/CasosFallecidosPorComuna.csv')\n",
    "deaths_districts = deaths_districts[~deaths_districts.Comuna.str.contains('Desconocido')]\n",
    "deaths_districts = deaths_districts[~deaths_districts.Comuna.str.contains('Total')]"
   ]
  },
  {
   "cell_type": "code",
   "execution_count": null,
   "metadata": {},
   "outputs": [],
   "source": [
    "def timeline_plot(df, title):\n",
    "    \"\"\"\n",
    "    A function to plot a seaborn diagram which shows the development of Covid-19 data in Chilean Regions. \n",
    "    For better readability, the function returns a log scale plot. \n",
    "    \n",
    "    Input: \n",
    "        df (DataFrame): A DataFrame whith information about Covid-19 in Chile.\n",
    "        title (string): Specify the kind of the plot (cases or deaths)\n",
    "        \n",
    "    Output: \n",
    "        A seaborn plot. \n",
    "    \"\"\"\n",
    "\n",
    "    # Get only relevant columns with information about cases/deaths:     \n",
    "    df_numbers = df[df.columns[5:-1]]\n",
    "    df_final = pd.concat([df['Region'], df_numbers], axis = 1)\n",
    "\n",
    "    # Group by region to get total numbers for each region. \n",
    "    df_grouped = df_final.groupby('Region')[[i for i in df_final.columns[1:]]].sum().reset_index()\n",
    "\n",
    "    # Apply melt, convert Date-column to datetime and sort values\n",
    "    df_melt = pd.melt(df_grouped, id_vars = 'Region', \n",
    "                       value_vars = df_grouped.columns.drop('Region'),\n",
    "                       var_name='Date', \n",
    "                       value_name='Cases')\n",
    "\n",
    "    df_melt.loc[:, ['Date']] = pd.to_datetime(df_melt['Date'])\n",
    "    df_melt = df_melt.sort_values('Cases', ascending = False)\n",
    "\n",
    "    # Plot the timeline\n",
    "    f, ax = plt.subplots(figsize = (16, 12))\n",
    "\n",
    "    g = sns.lineplot(\n",
    "        df_melt.Date, \n",
    "        df_melt.Cases, \n",
    "        hue = df_melt.Region\n",
    "    )\n",
    "\n",
    "    plt.xlabel('Date', fontsize = 20)\n",
    "    plt.ylabel('{} (log scale)'.format(title), fontsize = 20)\n",
    "    plt.title('Covid-19 {} in Chile (log scale)'.format(title), fontsize = 25)\n",
    "\n",
    "    ax.yaxis.tick_right()\n",
    "    ax.set_yscale('log')\n",
    "    plt.tick_params(labelsize=20, rotation=90)\n",
    "    plt.legend(scatterpoints=1, frameon=True, labelspacing=.2, bbox_to_anchor=(1.05, 1), loc=2, borderaxespad=0.5)\n",
    "\n",
    "    plt.grid(False)\n",
    "    ax.yaxis.grid()\n",
    "    sns.despine()\n",
    "    plt.show()"
   ]
  },
  {
   "cell_type": "code",
   "execution_count": null,
   "metadata": {},
   "outputs": [],
   "source": [
    "    #(np.sum(casen.isna() == True)/casen.shape[0]).sort_values(ascending = False).head(50)"
   ]
  },
  {
   "cell_type": "code",
   "execution_count": null,
   "metadata": {},
   "outputs": [],
   "source": [
    "mobility_chile_target = mobility_chile[mobility_chile['sub_region_1'] == target]\n",
    "\n",
    "merged_mobility = df_sel.merge(mobility_chile_target, left_on = 'Region', right_on = 'date', how = 'left')\n",
    "merged_mobility = merged_mobility.drop(['sub_region_1', 'date'], axis = 1)\n",
    "merged_mobility = merged_mobility[~merged_mobility['retail_and_recreation_percent_change_from_baseline'].isna()]\n",
    "\n",
    "merged_mobility"
   ]
  },
  {
   "cell_type": "code",
   "execution_count": null,
   "metadata": {},
   "outputs": [],
   "source": [
    "transposed_cases.head(2)"
   ]
  },
  {
   "cell_type": "code",
   "execution_count": null,
   "metadata": {},
   "outputs": [],
   "source": [
    "mean_error = []\n",
    "for day in range(3, 157):\n",
    "    train = df_mobility[df_mobility['days'] < day]\n",
    "    val = df_mobility[df_mobility['days'] == day]\n",
    "\n",
    "    p = val['yesterday_value'].values\n",
    "\n",
    "    error = rmsle(val['cases'].values, p)\n",
    "    print('day %d - Error %.5f' % (day, error))\n",
    "    mean_error.append(error)\n",
    "print('Mean Error = %.5f' % np.mean(mean_error))"
   ]
  }
 ],
 "metadata": {
  "kernelspec": {
   "display_name": "Python 3",
   "language": "python",
   "name": "python3"
  },
  "language_info": {
   "codemirror_mode": {
    "name": "ipython",
    "version": 3
   },
   "file_extension": ".py",
   "mimetype": "text/x-python",
   "name": "python",
   "nbconvert_exporter": "python",
   "pygments_lexer": "ipython3",
   "version": "3.7.6"
  }
 },
 "nbformat": 4,
 "nbformat_minor": 4
}
