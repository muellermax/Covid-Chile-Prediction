{
 "cells": [
  {
   "cell_type": "code",
   "execution_count": null,
   "metadata": {},
   "outputs": [],
   "source": [
    "\n",
    "# Read in data about Covid-19 in Chilean districts\n",
    "cases_districts = pd.read_csv(\n",
    "    'https://raw.githubusercontent.com/MinCiencia/Datos-COVID19/master/output/producto1/Covid-19.csv')\n",
    "cases_districts = cases_districts[~cases_districts.Comuna.str.contains('Desconocido')]\n",
    "\n",
    "\n",
    "deaths_districts = pd.read_csv(\n",
    "    'https://raw.githubusercontent.com/MinCiencia/Datos-COVID19/master/output/producto38/CasosFallecidosPorComuna.csv')\n",
    "deaths_districts = deaths_districts[~deaths_districts.Comuna.str.contains('Desconocido')]\n",
    "deaths_districts = deaths_districts[~deaths_districts.Comuna.str.contains('Total')]"
   ]
  },
  {
   "cell_type": "code",
   "execution_count": null,
   "metadata": {},
   "outputs": [],
   "source": [
    "def timeline_plot(df, title):\n",
    "    \"\"\"\n",
    "    A function to plot a seaborn diagram which shows the development of Covid-19 data in Chilean Regions. \n",
    "    For better readability, the function returns a log scale plot. \n",
    "    \n",
    "    Input: \n",
    "        df (DataFrame): A DataFrame whith information about Covid-19 in Chile.\n",
    "        title (string): Specify the kind of the plot (cases or deaths)\n",
    "        \n",
    "    Output: \n",
    "        A seaborn plot. \n",
    "    \"\"\"\n",
    "\n",
    "    # Get only relevant columns with information about cases/deaths:     \n",
    "    df_numbers = df[df.columns[5:-1]]\n",
    "    df_final = pd.concat([df['Region'], df_numbers], axis = 1)\n",
    "\n",
    "    # Group by region to get total numbers for each region. \n",
    "    df_grouped = df_final.groupby('Region')[[i for i in df_final.columns[1:]]].sum().reset_index()\n",
    "\n",
    "    # Apply melt, convert Date-column to datetime and sort values\n",
    "    df_melt = pd.melt(df_grouped, id_vars = 'Region', \n",
    "                       value_vars = df_grouped.columns.drop('Region'),\n",
    "                       var_name='Date', \n",
    "                       value_name='Cases')\n",
    "\n",
    "    df_melt.loc[:, ['Date']] = pd.to_datetime(df_melt['Date'])\n",
    "    df_melt = df_melt.sort_values('Cases', ascending = False)\n",
    "\n",
    "    # Plot the timeline\n",
    "    f, ax = plt.subplots(figsize = (16, 12))\n",
    "\n",
    "    g = sns.lineplot(\n",
    "        df_melt.Date, \n",
    "        df_melt.Cases, \n",
    "        hue = df_melt.Region\n",
    "    )\n",
    "\n",
    "    plt.xlabel('Date', fontsize = 20)\n",
    "    plt.ylabel('{} (log scale)'.format(title), fontsize = 20)\n",
    "    plt.title('Covid-19 {} in Chile (log scale)'.format(title), fontsize = 25)\n",
    "\n",
    "    ax.yaxis.tick_right()\n",
    "    ax.set_yscale('log')\n",
    "    plt.tick_params(labelsize=20, rotation=90)\n",
    "    plt.legend(scatterpoints=1, frameon=True, labelspacing=.2, bbox_to_anchor=(1.05, 1), loc=2, borderaxespad=0.5)\n",
    "\n",
    "    plt.grid(False)\n",
    "    ax.yaxis.grid()\n",
    "    sns.despine()\n",
    "    plt.show()"
   ]
  }
 ],
 "metadata": {
  "kernelspec": {
   "display_name": "Python 3",
   "language": "python",
   "name": "python3"
  },
  "language_info": {
   "codemirror_mode": {
    "name": "ipython",
    "version": 3
   },
   "file_extension": ".py",
   "mimetype": "text/x-python",
   "name": "python",
   "nbconvert_exporter": "python",
   "pygments_lexer": "ipython3",
   "version": "3.7.6"
  }
 },
 "nbformat": 4,
 "nbformat_minor": 4
}
